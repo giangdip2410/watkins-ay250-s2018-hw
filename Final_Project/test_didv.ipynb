{
 "cells": [
  {
   "cell_type": "code",
   "execution_count": 1,
   "metadata": {
    "collapsed": false
   },
   "outputs": [],
   "source": [
    "from DIDV import processDIDV\n",
    "import matplotlib.pyplot as plt\n",
    "import numpy as np\n",
    "from time import time\n",
    "import h5py\n",
    "\n",
    "%matplotlib inline"
   ]
  },
  {
   "cell_type": "code",
   "execution_count": 6,
   "metadata": {
    "collapsed": false
   },
   "outputs": [
    {
     "name": "stdout",
     "output_type": "stream",
     "text": [
      "1.50747203827\n"
     ]
    }
   ],
   "source": [
    "Rshunt = 5.0e-3\n",
    "Rbias_SG = 20000.0\n",
    "Rfb = 5000.0\n",
    "loopgain = 2.4\n",
    "ADCperVolt = 65536.0/2.0\n",
    "sampleRate = 625.0e3\n",
    "sgFreq = 100.0\n",
    "sgAmp = 0.009381 /Rbias_SG\n",
    "drivergain = 4.0\n",
    "Rp = 0.0060367199999999998\n",
    "Rload = Rshunt+Rp\n",
    "dRload = 0.0001\n",
    "R0 = 0.075570107054005367\n",
    "dR0 = 8.96383052e-04\n",
    "\n",
    "convToAmps = Rfb * loopgain * drivergain * ADCperVolt\n",
    "\n",
    "saveResults = False\n",
    "fit = True\n",
    "\n",
    "with h5py.File('example_traces.h5','r') as f:\n",
    "    rawTraces = np.array(f[\"rawTraces\"])\n",
    "\n",
    "fileSaveName = \"example_traces_data\"\n",
    "\n",
    "priors = np.zeros(7)\n",
    "invpriorsCov = np.zeros((7,7))\n",
    "priors[0] = Rload\n",
    "priors[1] = R0\n",
    "invpriorsCov[0,0] = 1.0/dRload**2\n",
    "invpriorsCov[1,1] = 1.0/dR0**2\n",
    "dt0=-18.8e-6"
   ]
  },
  {
   "cell_type": "code",
   "execution_count": 19,
   "metadata": {
    "collapsed": false,
    "scrolled": true
   },
   "outputs": [
    {
     "name": "stdout",
     "output_type": "stream",
     "text": [
      "Starting processing...\n"
     ]
    },
    {
     "name": "stderr",
     "output_type": "stream",
     "text": [
      "/data/analysis/packages/anaconda2/lib/python2.7/site-packages/ipykernel/__main__.py:102: RuntimeWarning: overflow encountered in exp\n",
      "/data/analysis/packages/anaconda2/lib/python2.7/site-packages/ipykernel/__main__.py:102: RuntimeWarning: overflow encountered in multiply\n"
     ]
    },
    {
     "name": "stdout",
     "output_type": "stream",
     "text": [
      "634\n",
      "629\n",
      "619\n",
      "612\n",
      "608\n",
      "40.3806169033\n",
      "Done!\n"
     ]
    }
   ],
   "source": [
    "print 'Starting processing...'\n",
    "start = time()\n",
    "cut = autoCuts(rawTraces,sgFreq=100.0,traceGain=convToAmps,fs=sampleRate,isDIDV=True,symmetrizeFlag=False)\n",
    "savedData = processDIDV(rawTraces[cut],priors=priors,invpriorsCov=invpriorsCov,timeOffset=0,\n",
    "                        dt0=dt0,traceGain=convToAmps,testFreq=sgFreq,testAmplitude=sgAmp,\n",
    "                        fs=sampleRate,dutycycle=0.5,add180Phase=False,fit=True,autoCut=False,\n",
    "                        pathSave=pathToSaveFile,fileStr=fileSaveName,makePlots=False,\n",
    "                        saveResults=saveResults,R0fit=R0,dR0=dR0,Rpfit=Rp,dRp=dRload,Rsh=Rshunt)\n",
    "\n",
    "print(time()-start)\n",
    "print(\"Done!\")"
   ]
  },
  {
   "cell_type": "code",
   "execution_count": null,
   "metadata": {
    "collapsed": true
   },
   "outputs": [],
   "source": []
  }
 ],
 "metadata": {
  "kernelspec": {
   "display_name": "Python 2",
   "language": "python",
   "name": "python2"
  },
  "language_info": {
   "codemirror_mode": {
    "name": "ipython",
    "version": 2
   },
   "file_extension": ".py",
   "mimetype": "text/x-python",
   "name": "python",
   "nbconvert_exporter": "python",
   "pygments_lexer": "ipython2",
   "version": "2.7.14"
  }
 },
 "nbformat": 4,
 "nbformat_minor": 2
}
