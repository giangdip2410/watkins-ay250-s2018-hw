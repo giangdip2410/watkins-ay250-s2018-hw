{
 "cells": [
  {
   "cell_type": "markdown",
   "metadata": {},
   "source": [
    "# Samuel Watkins, 3032132676"
   ]
  },
  {
   "cell_type": "markdown",
   "metadata": {},
   "source": [
    "# HW 6: Homebrew Computer Vision\n",
    "## Due Monday Apr 2, 2018 at 2 PM\n",
    "\n",
    "1. Download the [zip file](https://www.dropbox.com/s/cst9awcjpp08k33/50_categories.tar.gz). Look at some of the images, noting that there are 50 classes in 4244 images (e.g. \"goldfish\", “llama”, “speed-boat”, ...). Caution: it’s a pretty large file (~208M).\n",
    "2. Write a set of methods that takes as input one of these images, and then computes real-numbered features as the return. You should produce at least 15 features.\n",
    "3. Based on the feature set for each image, build a random forest classifier. Produce metrics on your estimated error rates using cross-validation. How much better is this than the expectation with random guessing? What are the 3 most important features?\n",
    "4. Make sure your final classifier can run on a directory of different images, where a call like `run_final_classifier(\"/new/directory/path/\")` on a directory that contains files like `validation1.jpg`, `validation2.jpg`, etc. will produce an output file that looks like:  \n",
    "```\n",
    "filename              predicted_class  \n",
    "``` \n",
    "` `-----------------------------------------------------------------\n",
    "```\n",
    "validation1.jpg       unicorn  \n",
    "validation2.jpg       camel  \n",
    "```\n",
    "\n",
    "    We will have a validation set to test how good your classifier is."
   ]
  },
  {
   "cell_type": "markdown",
   "metadata": {},
   "source": [
    "# Function to Extract Features from an Image"
   ]
  },
  {
   "cell_type": "code",
   "execution_count": 97,
   "metadata": {},
   "outputs": [],
   "source": [
    "import matplotlib.pyplot as plt\n",
    "import numpy as np\n",
    "\n",
    "def extractImageFeatures(pathToImage):\n",
    "    imageArray = plt.imread(pathToImage).astype(\"float\")\n",
    "    \n",
    "    arraySize = np.prod(imageArray.shape)\n",
    "    avgAllChans = np.mean(imageArray)\n",
    "    stdAllChans = np.std(imageArray)\n",
    "    ratioStdAvgAllChans = stdAllChans/avgAllChans\n",
    "    \n",
    "    avgRedChan = np.mean(imageArray[0])\n",
    "    stdRedChan = np.std(imageArray[0])\n",
    "    \n",
    "    avgBlueChan = np.mean(imageArray[1])\n",
    "    stdBlueChan = np.std(imageArray[1])\n",
    "    \n",
    "    avgGreenChan = np.mean(imageArray[2])\n",
    "    stdGreenChan = np.std(imageArray[2])\n",
    "    \n",
    "    ratioRedBlue = avgRedChan/avgBlueChan\n",
    "    ratioBlueGreen = avgBlueChan/avgGreenChan\n",
    "    ratioRedGreen = avgRedChan/avgGreenChan\n",
    "    \n",
    "    ratioStdAvgRedChan = stdRedChan/avgRedChan\n",
    "    ratioStdAvgBlueChan = stdBlueChan/avgBlueChan\n",
    "    ratioStdAvgGreenChan = stdGreenChan/avgGreenChan\n",
    "    \n",
    "    features=np.array([arraySize,avgRedChan,stdRedChan,avgBlueChan,stdBlueChan,\n",
    "              avgGreenChan,stdGreenChan,ratioRedBlue,ratioBlueGreen,\n",
    "              ratioRedGreen,ratioStdAvgRedChan,ratioStdAvgBlueChan,ratioStdAvgGreenChan,\n",
    "              avgAllChans,stdAllChans,ratioStdAvgAllChans])\n",
    "    features[np.isnan(features)]=0.0\n",
    "    features[np.isinf(features)]=0.0\n",
    "    \n",
    "    return features"
   ]
  },
  {
   "cell_type": "code",
   "execution_count": 98,
   "metadata": {},
   "outputs": [
    {
     "name": "stdout",
     "output_type": "stream",
     "text": [
      "[1.95816000e+05 2.22739531e+02 1.54667741e+01 2.22814908e+02\n",
      " 1.53525868e+01 2.22737018e+02 1.54015331e+01 9.99661706e-01\n",
      " 1.00034969e+00 1.00001128e+00 6.94388374e-02 6.89028708e-02\n",
      " 6.91467150e-02 1.69752548e+02 6.90050805e+01 4.06503945e-01]\n"
     ]
    }
   ],
   "source": [
    "pathToImage = \"/home/sam/Documents/watkins-ay250-s2018-hw/hw_6/50_categories/airplanes/airplanes_0001.jpg\"\n",
    "print(extractImageFeatures(pathToImage))"
   ]
  },
  {
   "cell_type": "markdown",
   "metadata": {},
   "source": [
    "# Extract Features from All Images"
   ]
  },
  {
   "cell_type": "code",
   "execution_count": 99,
   "metadata": {
    "collapsed": true
   },
   "outputs": [],
   "source": [
    "from glob import glob"
   ]
  },
  {
   "cell_type": "code",
   "execution_count": 137,
   "metadata": {},
   "outputs": [
    {
     "name": "stderr",
     "output_type": "stream",
     "text": [
      "/home/sam/anaconda3/lib/python3.6/site-packages/ipykernel_launcher.py:21: RuntimeWarning: invalid value encountered in double_scalars\n",
      "/home/sam/anaconda3/lib/python3.6/site-packages/ipykernel_launcher.py:22: RuntimeWarning: invalid value encountered in double_scalars\n",
      "/home/sam/anaconda3/lib/python3.6/site-packages/ipykernel_launcher.py:23: RuntimeWarning: invalid value encountered in double_scalars\n",
      "/home/sam/anaconda3/lib/python3.6/site-packages/ipykernel_launcher.py:25: RuntimeWarning: invalid value encountered in double_scalars\n",
      "/home/sam/anaconda3/lib/python3.6/site-packages/ipykernel_launcher.py:26: RuntimeWarning: invalid value encountered in double_scalars\n",
      "/home/sam/anaconda3/lib/python3.6/site-packages/ipykernel_launcher.py:27: RuntimeWarning: invalid value encountered in double_scalars\n",
      "/home/sam/anaconda3/lib/python3.6/site-packages/ipykernel_launcher.py:22: RuntimeWarning: divide by zero encountered in double_scalars\n",
      "/home/sam/anaconda3/lib/python3.6/site-packages/ipykernel_launcher.py:23: RuntimeWarning: divide by zero encountered in double_scalars\n"
     ]
    }
   ],
   "source": [
    "pathToImageFolders = \"50_categories/\"\n",
    "eachFolder = glob(pathToImageFolders+\"*/\")\n",
    "train = 0.2 # ratio of training dataset to total dataset\n",
    "X_train = list()\n",
    "Y_train = list()\n",
    "X_test = list()\n",
    "Y_test = list()\n",
    "\n",
    "for folder in eachFolder:\n",
    "    filesInFolder = glob(folder+\"*.jpg\")\n",
    "    for iFile,imageFile in enumerate(filesInFolder):\n",
    "        if iFile < int(0.5*len(filesInFolder)):\n",
    "            X_train.append(extractImageFeatures(imageFile))\n",
    "            Y_train.append(folder[len(pathToImageFolders):-1])\n",
    "        else:\n",
    "            X_test.append(extractImageFeatures(imageFile))\n",
    "            Y_test.append(folder[len(pathToImageFolders):-1])\n",
    "\n",
    "X_train = np.vstack(X_train)\n",
    "Y_train = np.array(Y_train)\n",
    "X_test = np.vstack(X_test)\n",
    "Y_test = np.array(Y_test)\n"
   ]
  },
  {
   "cell_type": "markdown",
   "metadata": {},
   "source": [
    "# Build A Random Forest Classifier"
   ]
  },
  {
   "cell_type": "code",
   "execution_count": null,
   "metadata": {
    "collapsed": true
   },
   "outputs": [],
   "source": [
    "from sklearn.ensemble import RandomForestClassifier\n",
    "from sklearn import metrics\n",
    "from sklearn import cross_validation"
   ]
  },
  {
   "cell_type": "code",
   "execution_count": 138,
   "metadata": {},
   "outputs": [],
   "source": [
    "classifier = RandomForestClassifier(n_estimators=50)\n",
    "\n",
    "classifier.fit(X_train,Y_train)\n",
    "\n",
    "pred_rf = classifier.predict(X_test)"
   ]
  },
  {
   "cell_type": "code",
   "execution_count": 144,
   "metadata": {},
   "outputs": [
    {
     "name": "stdout",
     "output_type": "stream",
     "text": [
      "Score: 0.19588592800374008\n",
      "Accuracy from cross-validation:0.20859869355131982 (+/- 0.010412088090862723)\n"
     ]
    }
   ],
   "source": [
    "print(f\"Score: {metrics.accuracy_score(Y_test,pred_rf)}\")\n",
    "scores = cross_validation.cross_val_score(classifier,np.vstack([X_train,X_test]),np.concatenate([Y_train,Y_test]),cv=5)\n",
    "print(f\"Accuracy from cross-validation:{np.mean(scores)} (+/- {np.std(scores)})\")"
   ]
  },
  {
   "cell_type": "code",
   "execution_count": 140,
   "metadata": {},
   "outputs": [
    {
     "data": {
      "text/plain": [
       "array([0.11381806, 0.05620071, 0.05189537, 0.05245607, 0.05354846,\n",
       "       0.05437473, 0.05092574, 0.06310891, 0.06761372, 0.06308358,\n",
       "       0.05322788, 0.04843142, 0.05221076, 0.07823844, 0.07042652,\n",
       "       0.07043962])"
      ]
     },
     "execution_count": 140,
     "metadata": {},
     "output_type": "execute_result"
    }
   ],
   "source": [
    "classifier.feature_importances_"
   ]
  },
  {
   "cell_type": "markdown",
   "metadata": {},
   "source": [
    "# Compare to Random Guessing"
   ]
  },
  {
   "cell_type": "code",
   "execution_count": 120,
   "metadata": {
    "collapsed": true
   },
   "outputs": [],
   "source": [
    "from sklearn.dummy import DummyClassifier"
   ]
  },
  {
   "cell_type": "code",
   "execution_count": 141,
   "metadata": {
    "collapsed": true
   },
   "outputs": [],
   "source": [
    "dummyclf = DummyClassifier(strategy=\"uniform\",random_state=42)\n",
    "\n",
    "dummyclf.fit(X_train,Y_train)\n",
    "\n",
    "dummypred_rf = dummyclf.predict(X_test)"
   ]
  },
  {
   "cell_type": "code",
   "execution_count": 142,
   "metadata": {},
   "outputs": [
    {
     "name": "stdout",
     "output_type": "stream",
     "text": [
      "0.021972884525479196\n",
      "0.017004725253143567 (+/- 0.0038749670420298575)\n"
     ]
    }
   ],
   "source": [
    "print(metrics.accuracy_score(Y_test,dummypred_rf))\n",
    "scores = cross_validation.cross_val_score(dummyclf,np.vstack([X_train,X_test]),np.concatenate([Y_train,Y_test]),cv=5)\n",
    "print(f\"{np.mean(scores)} (+/- {np.std(scores)})\")"
   ]
  },
  {
   "cell_type": "code",
   "execution_count": null,
   "metadata": {
    "collapsed": true
   },
   "outputs": [],
   "source": []
  }
 ],
 "metadata": {
  "kernelspec": {
   "display_name": "Python 3",
   "language": "python",
   "name": "python3"
  },
  "language_info": {
   "codemirror_mode": {
    "name": "ipython",
    "version": 3
   },
   "file_extension": ".py",
   "mimetype": "text/x-python",
   "name": "python",
   "nbconvert_exporter": "python",
   "pygments_lexer": "ipython3",
   "version": "3.6.3"
  }
 },
 "nbformat": 4,
 "nbformat_minor": 2
}
