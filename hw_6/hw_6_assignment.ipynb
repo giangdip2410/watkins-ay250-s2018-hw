{
 "cells": [
  {
   "cell_type": "markdown",
   "metadata": {},
   "source": [
    "# Samuel Watkins, 3032132676"
   ]
  },
  {
   "cell_type": "markdown",
   "metadata": {},
   "source": [
    "# HW 6: Homebrew Computer Vision\n",
    "## Due Monday Apr 2, 2018 at 2 PM\n",
    "\n",
    "1. Download the [zip file](https://www.dropbox.com/s/cst9awcjpp08k33/50_categories.tar.gz). Look at some of the images, noting that there are 50 classes in 4244 images (e.g. \"goldfish\", “llama”, “speed-boat”, ...). Caution: it’s a pretty large file (~208M).\n",
    "2. Write a set of methods that takes as input one of these images, and then computes real-numbered features as the return. You should produce at least 15 features.\n",
    "3. Based on the feature set for each image, build a random forest classifier. Produce metrics on your estimated error rates using cross-validation. How much better is this than the expectation with random guessing? What are the 3 most important features?\n",
    "4. Make sure your final classifier can run on a directory of different images, where a call like `run_final_classifier(\"/new/directory/path/\")` on a directory that contains files like `validation1.jpg`, `validation2.jpg`, etc. will produce an output file that looks like:  \n",
    "```\n",
    "filename              predicted_class  \n",
    "``` \n",
    "` `-----------------------------------------------------------------\n",
    "```\n",
    "validation1.jpg       unicorn  \n",
    "validation2.jpg       camel  \n",
    "```\n",
    "\n",
    "    We will have a validation set to test how good your classifier is."
   ]
  },
  {
   "cell_type": "markdown",
   "metadata": {},
   "source": [
    "# Function to Extract Features from an Image"
   ]
  },
  {
   "cell_type": "code",
   "execution_count": 1,
   "metadata": {},
   "outputs": [],
   "source": [
    "import matplotlib.pyplot as plt\n",
    "import numpy as np\n",
    "from skimage.feature import corner_harris,peak_local_max,canny,corner_peaks,blob_doh\n",
    "from skimage.segmentation import slic\n",
    "from skimage.color.colorconv import rgb2grey,grey2rgb\n",
    "from skimage.filters import frangi,gaussian,threshold_li\n",
    "from skimage.transform import rescale,hough_line,hough_line_peaks\n",
    "from skimage.measure import shannon_entropy"
   ]
  },
  {
   "cell_type": "code",
   "execution_count": 2,
   "metadata": {
    "collapsed": true
   },
   "outputs": [],
   "source": [
    "def extractImageFeatures(pathToImage,smallImageSize=16000):\n",
    "    imageArray = plt.imread(pathToImage).astype(\"float\")\n",
    "    if len(imageArray.shape)<3:\n",
    "        imageArray = grey2rgb(imageArray)\n",
    "    greyImgArr = rgb2grey(imageArray)\n",
    "    scaleFactor = np.sqrt(smallImageSize/np.prod(greyImgArr.shape))\n",
    "    imgScaled = rescale(greyImgArr,scaleFactor,mode = \"constant\")\n",
    "    imgScaledColor = rescale(imageArray,scaleFactor,mode = \"constant\")\n",
    "    imgScaledGauss = gaussian(imgScaled)\n",
    "    \n",
    "    # dumb features\n",
    "    imgSize = np.prod(greyImgArr.shape)\n",
    "    imgHeight = greyImgArr.shape[0]\n",
    "    imgWidth = greyImgArr.shape[1]\n",
    "    aspectRatio = imgWidth/imgHeight\n",
    "    \n",
    "    avgAllChans = np.mean(imageArray)\n",
    "    \n",
    "    avgRedChan = np.mean(imageArray[:,:,0])\n",
    "    avgGreenChan = np.mean(imageArray[:,:,1])\n",
    "    avgBlueChan = np.mean(imageArray[:,:,2])\n",
    "    \n",
    "    ratioRedBlue = avgRedChan/avgBlueChan\n",
    "    ratioBlueGreen = avgBlueChan/avgGreenChan\n",
    "    ratioRedGreen = avgRedChan/avgGreenChan\n",
    "    \n",
    "    # \"smart\" features\n",
    "    corners = corner_harris(imgScaled)\n",
    "    numCorners = len(corner_peaks(corners))\n",
    "    \n",
    "    peaks = peak_local_max(imgScaled)\n",
    "    numPeaks = len(peaks)\n",
    "    \n",
    "    segments = slic(imgScaled)\n",
    "    numSegments = np.max(segments)\n",
    "    \n",
    "#     blobs = blob_doh(imgScaledGauss)\n",
    "#     numBlobs = len(blobs)\n",
    "    \n",
    "    edges = canny(frangi(imgScaledGauss))\n",
    "    edgeLength = np.sum(edges)\n",
    "    if edgeLength == 0:\n",
    "        edgeLength+=1\n",
    "        \n",
    "    edgesZoomed = edges[int(imgScaled.shape[0]/4):-int(imgScaled.shape[0]/4),\n",
    "                        int(imgScaled.shape[1]/4):-int(imgScaled.shape[1]/4)]\n",
    "    edgesInMiddle = np.sum(edgesZoomed)/edgeLength\n",
    "    \n",
    "    hspace,angles,distances = hough_line(edges)\n",
    "    if np.sum(hspace)>0:\n",
    "        numLines = len(hough_line_peaks(hspace,angles,distances)[0])\n",
    "    else:\n",
    "        numLines = 0\n",
    "    \n",
    "    ratioLinesEdges = numLines/edgeLength\n",
    "    \n",
    "    horizontalEdges = edges[int(edges.shape[0]/2)]\n",
    "    verticalEdges = edges[:,int(edges.shape[1]/2)]\n",
    "    horizontalEdgeCrossings = sum(horizontalEdges[:-1]!=horizontalEdges[1:])\n",
    "    verticalEdgeCrossings = sum(verticalEdges[:-1]!=verticalEdges[1:])\n",
    "\n",
    "    ratioCornersPeak = numCorners/numPeaks\n",
    "    ratioCornersSegments = numCorners/numSegments\n",
    "    ratioCornersEdges = numCorners/edgeLength\n",
    "    ratioPeaksSegments = numPeaks/numSegments\n",
    "    ratioPeaksEdges = numPeaks/edgeLength\n",
    "    ratioSegmentsEdges = numSegments/edgeLength\n",
    "    \n",
    "    shanent = shannon_entropy(imageArray)\n",
    "    \n",
    "    thresh = threshold_li(imgScaled)\n",
    "    foreground = imgScaled <=thresh\n",
    "    foregroundSize = np.sum(foreground)\n",
    "    \n",
    "    ratioForegroundEdge = foregroundSize/edgeLength\n",
    "    \n",
    "    edgeRatio = np.sum(canny(gaussian(foreground)))/edgeLength\n",
    "    \n",
    "    avgForegroundRed = np.mean(imgScaledColor[:,:,0][foreground])\n",
    "    avgForegroundGreen = np.mean(imgScaledColor[:,:,1][foreground])\n",
    "    avgForegroundBlue = np.mean(imgScaledColor[:,:,2][foreground])\n",
    "    \n",
    "    ratioFGRedGreen = avgForegroundRed/avgForegroundGreen\n",
    "    ratioFGRedBlue = avgForegroundRed/avgForegroundBlue\n",
    "    ratioFGGreenBlue = avgForegroundGreen/avgForegroundBlue\n",
    "\n",
    "    features=np.array([imgSize,imgHeight,imgWidth,aspectRatio,ratioRedBlue,ratioBlueGreen,\n",
    "                        ratioRedGreen,numPeaks,numSegments,edgeLength,\n",
    "                        horizontalEdgeCrossings,verticalEdgeCrossings,\n",
    "                        ratioCornersPeak,ratioCornersSegments,ratioPeaksSegments,\n",
    "                        ratioPeaksEdges,ratioSegmentsEdges,shanent,thresh,foregroundSize,\n",
    "                        avgForegroundRed,avgForegroundGreen,avgForegroundBlue,\n",
    "                        ratioFGRedGreen,ratioFGRedBlue,ratioFGGreenBlue,numLines,#numBlobs,\n",
    "                        ratioCornersEdges,avgAllChans,avgRedChan,avgGreenChan,avgBlueChan,\n",
    "                        edgeRatio,edgesInMiddle,ratioLinesEdges,ratioForegroundEdge])\n",
    "    \n",
    "    if np.any(np.isnan(features)):\n",
    "        print(pathToImage)\n",
    "    features[np.isnan(features)]=0.0\n",
    "    features[np.isinf(features)]=0.0\n",
    "    \n",
    "    return features"
   ]
  },
  {
   "cell_type": "code",
   "execution_count": null,
   "metadata": {},
   "outputs": [],
   "source": [
    "from skimage.feature import blob_doh,shape_index\n",
    "from copy import deepcopy\n",
    "from skimage.filters import try_all_threshold,threshold_minimum\n",
    "from skimage.color import label2rgb\n",
    "from skimage.segmentation import random_walker\n",
    "\n",
    "\n",
    "pathToImage = \"/home/sam/Documents/watkins-ay250-s2018-hw/hw_6/50_categories/bear/bear_0012.jpg\"\n",
    "imageArray = plt.imread(pathToImage).astype(\"float\")\n",
    "imageArray = grey2rgb(imageArray)\n",
    "greyImgArr = rgb2grey(imageArray)\n",
    "scaleFactor = np.sqrt(16000.0/np.prod(greyImgArr.shape))\n",
    "imgScaledColor = rescale(imageArray,scaleFactor,mode = \"constant\")\n",
    "imgScaled = rescale(greyImgArr,scaleFactor,mode = \"constant\")\n",
    "threshval = threshold_otsu(gaussian(imgScaled))\n",
    "imgBackground = gaussian(imgScaled) > threshval\n",
    "imgForeground = deepcopy(imgScaled)\n",
    "imgForeground[imgBackground] = 0\n",
    "binary = gaussian(imgScaled) <=threshval\n",
    "imgFilt = binary\n",
    "edgePic = canny(frangi(gaussian(imgScaled)))\n",
    "\n",
    "val = threshold_minimum(imgScaled)\n",
    "binary = imgScaled <= val\n",
    "plt.imshow(canny(gaussian(binary)))\n",
    "\n",
    "plt.imshow(imgScaled[int(imgScaled.shape[0]/4):-int(imgScaled.shape[0]/4),int(imgScaled.shape[1]/4):-int(imgScaled.shape[1]/4)])\n",
    "\n",
    "# blobs = blob_doh(gaussian(imgForeground),min_sigma=1.0,max_sigma=30,log_scale=False)\n",
    "\n",
    "# nonEdgeBlobs = np.logical_and.reduce((np.all(blobs!=0,axis=1),blobs[:,0]!=imgScaled.shape[0]-1,blobs[:,1]!=imgScaled.shape[1]-1))\n",
    "\n",
    "# blobs = blobs[nonEdgeBlobs]\n",
    "# print(imgScaled.shape)\n",
    "# print(len(blobs))\n",
    "# print(blobs)\n",
    "\n",
    "# fig, ax = plt.subplots(figsize=(9, 3))\n",
    "# ax.imshow(imgScaled, interpolation='nearest')\n",
    "# for blob in blobs:\n",
    "#     y, x, r = blob\n",
    "#     c = plt.Circle((x, y), r, color='red', linewidth=2, fill=False)\n",
    "#     ax.add_patch(c)"
   ]
  },
  {
   "cell_type": "markdown",
   "metadata": {},
   "source": [
    "# Extract Features from All Images"
   ]
  },
  {
   "cell_type": "code",
   "execution_count": 3,
   "metadata": {
    "collapsed": true
   },
   "outputs": [],
   "source": [
    "from glob import glob\n",
    "from sklearn.model_selection import train_test_split\n",
    "from multiprocessing import Pool\n",
    "from time import time"
   ]
  },
  {
   "cell_type": "code",
   "execution_count": 4,
   "metadata": {
    "scrolled": true
   },
   "outputs": [
    {
     "name": "stdout",
     "output_type": "stream",
     "text": [
      "Looking in folder 1 of 50 folders...\n",
      "Looking in folder 2 of 50 folders...\n",
      "Looking in folder 3 of 50 folders...\n",
      "Looking in folder 4 of 50 folders...\n",
      "Looking in folder 5 of 50 folders...\n",
      "Looking in folder 6 of 50 folders...\n",
      "Looking in folder 7 of 50 folders...\n",
      "Looking in folder 8 of 50 folders...\n",
      "Looking in folder 9 of 50 folders...\n",
      "Looking in folder 10 of 50 folders...\n",
      "Looking in folder 11 of 50 folders...\n",
      "Looking in folder 12 of 50 folders...\n",
      "Looking in folder 13 of 50 folders...\n",
      "Looking in folder 14 of 50 folders...\n",
      "Looking in folder 15 of 50 folders...\n",
      "Looking in folder 16 of 50 folders...\n",
      "Looking in folder 17 of 50 folders...\n",
      "Looking in folder 18 of 50 folders...\n",
      "Looking in folder 19 of 50 folders...\n",
      "Looking in folder 20 of 50 folders...\n",
      "Looking in folder 21 of 50 folders...\n",
      "Looking in folder 22 of 50 folders...\n",
      "Looking in folder 23 of 50 folders...\n"
     ]
    },
    {
     "name": "stderr",
     "output_type": "stream",
     "text": [
      "/home/sam/anaconda3/lib/python3.6/site-packages/ipykernel_launcher.py:63: RuntimeWarning: divide by zero encountered in long_scalars\n",
      "/home/sam/anaconda3/lib/python3.6/site-packages/ipykernel_launcher.py:65: RuntimeWarning: divide by zero encountered in long_scalars\n",
      "/home/sam/anaconda3/lib/python3.6/site-packages/ipykernel_launcher.py:63: RuntimeWarning: divide by zero encountered in long_scalars\n",
      "/home/sam/anaconda3/lib/python3.6/site-packages/ipykernel_launcher.py:65: RuntimeWarning: divide by zero encountered in long_scalars\n"
     ]
    },
    {
     "name": "stdout",
     "output_type": "stream",
     "text": [
      "Looking in folder 24 of 50 folders...\n",
      "Looking in folder 25 of 50 folders...\n",
      "Looking in folder 26 of 50 folders...\n"
     ]
    },
    {
     "name": "stderr",
     "output_type": "stream",
     "text": [
      "/home/sam/anaconda3/lib/python3.6/site-packages/ipykernel_launcher.py:63: RuntimeWarning: divide by zero encountered in long_scalars\n",
      "/home/sam/anaconda3/lib/python3.6/site-packages/ipykernel_launcher.py:65: RuntimeWarning: divide by zero encountered in long_scalars\n"
     ]
    },
    {
     "name": "stdout",
     "output_type": "stream",
     "text": [
      "Looking in folder 27 of 50 folders...\n",
      "Looking in folder 28 of 50 folders...\n",
      "Looking in folder 29 of 50 folders...\n",
      "Looking in folder 30 of 50 folders...\n",
      "Looking in folder 31 of 50 folders...\n"
     ]
    },
    {
     "name": "stderr",
     "output_type": "stream",
     "text": [
      "/home/sam/anaconda3/lib/python3.6/site-packages/ipykernel_launcher.py:63: RuntimeWarning: divide by zero encountered in long_scalars\n",
      "/home/sam/anaconda3/lib/python3.6/site-packages/ipykernel_launcher.py:65: RuntimeWarning: divide by zero encountered in long_scalars\n"
     ]
    },
    {
     "name": "stdout",
     "output_type": "stream",
     "text": [
      "Looking in folder 32 of 50 folders...\n",
      "Looking in folder 33 of 50 folders...\n",
      "Looking in folder 34 of 50 folders...\n",
      "Looking in folder 35 of 50 folders...\n",
      "Looking in folder 36 of 50 folders...\n",
      "Looking in folder 37 of 50 folders...\n",
      "Looking in folder 38 of 50 folders...\n"
     ]
    },
    {
     "name": "stderr",
     "output_type": "stream",
     "text": [
      "/home/sam/anaconda3/lib/python3.6/site-packages/ipykernel_launcher.py:63: RuntimeWarning: divide by zero encountered in long_scalars\n",
      "/home/sam/anaconda3/lib/python3.6/site-packages/ipykernel_launcher.py:65: RuntimeWarning: divide by zero encountered in long_scalars\n",
      "/home/sam/anaconda3/lib/python3.6/site-packages/ipykernel_launcher.py:63: RuntimeWarning: divide by zero encountered in long_scalars\n",
      "/home/sam/anaconda3/lib/python3.6/site-packages/ipykernel_launcher.py:65: RuntimeWarning: divide by zero encountered in long_scalars\n",
      "/home/sam/anaconda3/lib/python3.6/site-packages/ipykernel_launcher.py:63: RuntimeWarning: divide by zero encountered in long_scalars\n",
      "/home/sam/anaconda3/lib/python3.6/site-packages/ipykernel_launcher.py:65: RuntimeWarning: divide by zero encountered in long_scalars\n"
     ]
    },
    {
     "name": "stdout",
     "output_type": "stream",
     "text": [
      "Looking in folder 39 of 50 folders...\n",
      "Looking in folder 40 of 50 folders...\n",
      "Looking in folder 41 of 50 folders...\n",
      "Looking in folder 42 of 50 folders...\n",
      "Looking in folder 43 of 50 folders...\n",
      "Looking in folder 44 of 50 folders...\n",
      "Looking in folder 45 of 50 folders...\n"
     ]
    },
    {
     "name": "stderr",
     "output_type": "stream",
     "text": [
      "/home/sam/anaconda3/lib/python3.6/site-packages/ipykernel_launcher.py:63: RuntimeWarning: divide by zero encountered in long_scalars\n",
      "/home/sam/anaconda3/lib/python3.6/site-packages/ipykernel_launcher.py:65: RuntimeWarning: divide by zero encountered in long_scalars\n"
     ]
    },
    {
     "name": "stdout",
     "output_type": "stream",
     "text": [
      "Looking in folder 46 of 50 folders...\n",
      "Looking in folder 47 of 50 folders...\n",
      "Looking in folder 48 of 50 folders...\n",
      "Looking in folder 49 of 50 folders...\n",
      "Looking in folder 50 of 50 folders...\n",
      "350.5047471523285\n"
     ]
    },
    {
     "name": "stderr",
     "output_type": "stream",
     "text": [
      "/home/sam/anaconda3/lib/python3.6/site-packages/sklearn/model_selection/_split.py:2026: FutureWarning: From version 0.21, test_size will always complement train_size unless both are specified.\n",
      "  FutureWarning)\n"
     ]
    }
   ],
   "source": [
    "pathToImageFolders = \"50_categories/\"\n",
    "eachFolder = glob(pathToImageFolders+\"*/\")\n",
    "train_size = 0.5 # ratio of training dataset to total dataset\n",
    "X = list()\n",
    "Y = list()\n",
    "\n",
    "# open up 16 processes to extract features in parallel\n",
    "num_processes = 16\n",
    "pool = Pool(processes=num_processes)\n",
    "\n",
    "starttime = time()\n",
    "for iFolder,folder in enumerate(eachFolder):\n",
    "    print(f\"Looking in folder {iFolder+1} of {len(eachFolder)} folders...\")\n",
    "    filesInFolder = glob(folder+\"*.jpg\")\n",
    "    parallelFeatures = pool.map(extractImageFeatures,filesInFolder)\n",
    "    X.append(np.vstack(parallelFeatures))\n",
    "    Y.append(np.repeat(folder[len(pathToImageFolders):-1],len(filesInFolder)))\n",
    "\n",
    "print(time()-starttime)\n",
    "\n",
    "pool.terminate()\n",
    "del pool\n",
    "\n",
    "X = np.vstack(X)\n",
    "Y = np.concatenate(Y)\n",
    "        \n",
    "X_train,X_test,Y_train,Y_test = train_test_split(X,Y,train_size=train_size,stratify=Y)\n"
   ]
  },
  {
   "cell_type": "markdown",
   "metadata": {},
   "source": [
    "# Build A Random Forest Classifier"
   ]
  },
  {
   "cell_type": "code",
   "execution_count": 5,
   "metadata": {
    "collapsed": true
   },
   "outputs": [],
   "source": [
    "from sklearn.ensemble import RandomForestClassifier\n",
    "from sklearn import metrics\n",
    "from sklearn.model_selection import cross_val_score"
   ]
  },
  {
   "cell_type": "code",
   "execution_count": 6,
   "metadata": {
    "collapsed": true
   },
   "outputs": [],
   "source": [
    "randforclf = RandomForestClassifier(n_estimators=50)\n",
    "\n",
    "randforclf.fit(X_train,Y_train)\n",
    "\n",
    "pred_rf = randforclf.predict(X_test)"
   ]
  },
  {
   "cell_type": "code",
   "execution_count": 10,
   "metadata": {},
   "outputs": [
    {
     "name": "stdout",
     "output_type": "stream",
     "text": [
      "Score: 0.3067860508953817\n",
      "Accuracy from cross-validation: 0.3147338692986878 (+/- 0.003915028005286019)\n"
     ]
    }
   ],
   "source": [
    "print(f\"Score: {metrics.accuracy_score(Y_test,pred_rf)}\")\n",
    "scores = cross_val_score(randforclf,X,Y,cv=5,groups=Y)\n",
    "print(f\"Accuracy from cross-validation: {np.mean(scores)} (+/- {np.std(scores)})\")"
   ]
  },
  {
   "cell_type": "code",
   "execution_count": 8,
   "metadata": {
    "scrolled": false
   },
   "outputs": [
    {
     "data": {
      "text/plain": [
       "array([0.04037229, 0.04469919, 0.03814068, 0.07204933, 0.02460567,\n",
       "       0.02620213, 0.02891444, 0.02530363, 0.02546769, 0.02443762,\n",
       "       0.02041685, 0.01824054, 0.0252138 , 0.02237858, 0.02505821,\n",
       "       0.02486793, 0.02671337, 0.03635504, 0.02287981, 0.02325356,\n",
       "       0.02489279, 0.02615189, 0.02466265, 0.02455391, 0.0250627 ,\n",
       "       0.02474401, 0.02805788, 0.02352151, 0.02212818, 0.02407797,\n",
       "       0.02118259, 0.02323303, 0.02910648, 0.02620968, 0.03223244,\n",
       "       0.02461196])"
      ]
     },
     "execution_count": 8,
     "metadata": {},
     "output_type": "execute_result"
    }
   ],
   "source": [
    "randforclf.feature_importances_"
   ]
  },
  {
   "cell_type": "markdown",
   "metadata": {},
   "source": [
    "# Compare to Random Guessing"
   ]
  },
  {
   "cell_type": "code",
   "execution_count": null,
   "metadata": {
    "collapsed": true
   },
   "outputs": [],
   "source": [
    "from sklearn.dummy import DummyClassifier"
   ]
  },
  {
   "cell_type": "code",
   "execution_count": null,
   "metadata": {
    "collapsed": true
   },
   "outputs": [],
   "source": [
    "dummyclf = DummyClassifier(strategy=\"prior\",random_state=42)\n",
    "\n",
    "dummyclf.fit(X_train,Y_train)\n",
    "\n",
    "dummypred_rf = dummyclf.predict(X_test)"
   ]
  },
  {
   "cell_type": "code",
   "execution_count": null,
   "metadata": {},
   "outputs": [],
   "source": [
    "print(metrics.accuracy_score(Y_test,dummypred_rf))\n",
    "scores = cross_val_score(dummyclf,X,Y,cv=5,groups=Y)\n",
    "print(f\"{np.mean(scores)} (+/- {np.std(scores)})\")"
   ]
  },
  {
   "cell_type": "code",
   "execution_count": null,
   "metadata": {
    "collapsed": true
   },
   "outputs": [],
   "source": []
  }
 ],
 "metadata": {
  "kernelspec": {
   "display_name": "Python 3",
   "language": "python",
   "name": "python3"
  },
  "language_info": {
   "codemirror_mode": {
    "name": "ipython",
    "version": 3
   },
   "file_extension": ".py",
   "mimetype": "text/x-python",
   "name": "python",
   "nbconvert_exporter": "python",
   "pygments_lexer": "ipython3",
   "version": "3.6.3"
  }
 },
 "nbformat": 4,
 "nbformat_minor": 2
}
