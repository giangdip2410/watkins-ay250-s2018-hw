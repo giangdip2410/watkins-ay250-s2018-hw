{
 "cells": [
  {
   "cell_type": "markdown",
   "metadata": {},
   "source": [
    "# Samuel Watkins, 3032132676"
   ]
  },
  {
   "cell_type": "markdown",
   "metadata": {},
   "source": [
    "# HW 5: Database\n",
    "## Weather Prediction, due Monday Mar 12, 2018 at 2 PM\n",
    "\n",
    "In this assignment, we will create a database to analyze historical weather data and discover the relationships between major cities.\n",
    "\n",
    "1. Find a list of the 50 most travelled airports in the US and make a table containing the relevant information, such as name, nearest city, latitude, and longitude.\n",
    "2. Build another table that will hold historical weather information, such as min/max temperature, humidity, and precipitation.\n",
    "3. Build a web crawler that will pull historical data from Weather Underground from 2008 until now and populate your tables accordingly.\n",
    "4. For each pair of cities/airports, determine how the daily change of temperature high and precipitation from one city predicts the daily change of the other city 1, 3, and 7 days in advance.\n",
    "5. Plot the correlation strengths for the 10 top pairs for all three dates for temperature and precipitation (separately) as a function of distance. Also, make a plot as a function of longitude. What trends do you see?"
   ]
  },
  {
   "cell_type": "markdown",
   "metadata": {},
   "source": [
    "# 1. List of 50 Most Travelled Airports\n",
    "\n",
    "A list of all airports with latitude, longitude, altitude, codes, and more was found at [this link](). A CSV can be downloaded that contains all of the information, called `airports.dat`.  \n",
    "A list of the 50 most travelled airports in the US was found at [this link](https://www.rita.dot.gov/bts/sites/rita.dot.gov.bts/files/publications/national_transportation_statistics/html/table_01_44.html/). A CSV can be downloaded called `table_01_44_5.csv`, which contains the airport name, closest city, and the airport code."
   ]
  },
  {
   "cell_type": "code",
   "execution_count": 46,
   "metadata": {},
   "outputs": [],
   "source": [
    "import pandas as pd\n",
    "\n",
    "# read the CSV containing the codes of the 50 most travelled airports\n",
    "most_travelled_airports = pd.read_csv('table_01_44_5.csv',sep=',',skiprows=4,\n",
    "                                      usecols=[1],names=[\"IATA Code\"],skipfooter=11,engine=\"python\")\n",
    "\n",
    "# read the CSV containing information on all airports\n",
    "all_airports = pd.read_csv('airports.dat',sep=',',usecols=[1,2,3,4,5,6,7,8],\n",
    "                           names=[\"Name\",\"City\",\"Country\",\"IATA Code\",\"ICAO Code\",\"Latitude\",\"Longitude\",\"Altitude\"])\n",
    "\n",
    "# merge the CSVs such that we have all relevant information necessary on the 50 most travelled airports\n",
    "most_travelled_airports = most_travelled_airports.merge(all_airports,how=\"left\",on=\"IATA Code\")"
   ]
  },
  {
   "cell_type": "code",
   "execution_count": 61,
   "metadata": {},
   "outputs": [],
   "source": [
    "import sqlite3\n",
    "\n",
    "# let's create an airports table to store all of the information\n",
    "connection = sqlite3.connect(\"/tmp/example2.db\")\n",
    "cursor = connection.cursor()\n",
    "\n",
    "sql_cmd = \"\"\"CREATE TABLE airports (aid INTEGER PRIMARY KEY AUTOINCREMENT,\n",
    "    name TEXT, city TEXT, country TEXT, iata TEXT, icao TEXT, latitude FLOAT, longitude FLOAT, altitude FLOAT)\"\"\"\n",
    "\n",
    "cursor.execute(sql_cmd)\n",
    "\n",
    "# now populate the table\n",
    "for ii,row in most_travelled_airports.iterrows():\n",
    "    name = row[\"Name\"].replace(\"'\",\"`\")\n",
    "    city = row[\"City\"]\n",
    "    country = row[\"Country\"]\n",
    "    icao = row[\"ICAO Code\"]\n",
    "    iata = row[\"IATA Code\"]\n",
    "    latitude = row[\"Latitude\"]\n",
    "    longitude = row[\"Longitude\"]\n",
    "    altitude = row[\"Altitude\"]\n",
    "    \n",
    "    sql_cmd = \"INSERT INTO airports\" + \\\n",
    "              \"(name, city, country, iata, icao, latitude, longitude, altitude)\" + \\\n",
    "              f\"\"\" VALUES ('{name}','{city}','{country}','{iata}','{icao}',{latitude},{longitude},{altitude})\"\"\"\n",
    "    cursor.execute(sql_cmd)\n",
    "connection.commit()\n"
   ]
  },
  {
   "cell_type": "markdown",
   "metadata": {},
   "source": [
    "# 2. Table for Storing Weather Information"
   ]
  },
  {
   "cell_type": "code",
   "execution_count": null,
   "metadata": {
    "collapsed": true
   },
   "outputs": [],
   "source": []
  }
 ],
 "metadata": {
  "kernelspec": {
   "display_name": "Python 3",
   "language": "python",
   "name": "python3"
  },
  "language_info": {
   "codemirror_mode": {
    "name": "ipython",
    "version": 3
   },
   "file_extension": ".py",
   "mimetype": "text/x-python",
   "name": "python",
   "nbconvert_exporter": "python",
   "pygments_lexer": "ipython3",
   "version": "3.6.3"
  }
 },
 "nbformat": 4,
 "nbformat_minor": 2
}
