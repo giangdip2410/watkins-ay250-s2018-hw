{
 "cells": [
  {
   "cell_type": "markdown",
   "metadata": {},
   "source": [
    "# Samuel Watkins, 3032132676"
   ]
  },
  {
   "cell_type": "markdown",
   "metadata": {},
   "source": [
    "# HW 5: Database\n",
    "## Weather Prediction, due Monday Mar 12, 2018 at 2 PM\n",
    "\n",
    "In this assignment, we will create a database to analyze historical weather data and discover the relationships between major cities.\n",
    "\n",
    "1. Find a list of the 50 most travelled airports in the US and make a table containing the relevant information, such as name, nearest city, latitude, and longitude.\n",
    "2. Build another table that will hold historical weather information, such as min/max temperature, humidity, and precipitation.\n",
    "3. Build a web crawler that will pull historical data from Weather Underground from 2008 until now and populate your tables accordingly.\n",
    "4. For each pair of cities/airports, determine how the daily change of temperature high and precipitation from one city predicts the daily change of the other city 1, 3, and 7 days in advance.\n",
    "5. Plot the correlation strengths for the 10 top pairs for all three dates for temperature and precipitation (separately) as a function of distance. Also, make a plot as a function of longitude. What trends do you see?"
   ]
  },
  {
   "cell_type": "markdown",
   "metadata": {},
   "source": [
    "# 1. List of 50 Most Travelled Airports\n",
    "\n",
    "A list of all airports with latitude, longitude, altitude, codes, and more was found at [this link](). A CSV can be downloaded that contains all of the information, called `airports.dat`.  \n",
    "A list of the 50 most travelled airports in the US was found at [this link](https://www.rita.dot.gov/bts/sites/rita.dot.gov.bts/files/publications/national_transportation_statistics/html/table_01_44.html/). A CSV can be downloaded called `table_01_44_5.csv`, which contains the airport name, closest city, and the airport code."
   ]
  },
  {
   "cell_type": "code",
   "execution_count": 12,
   "metadata": {
    "collapsed": true
   },
   "outputs": [],
   "source": [
    "import pandas as pd\n",
    "\n",
    "# read the CSV containing the codes of the 50 most travelled airports\n",
    "most_travelled_airports = pd.read_csv('table_01_44_5.csv',sep=',',skiprows=4,\n",
    "                                      usecols=[1],names=[\"IATA Code\"],skipfooter=11,engine=\"python\")\n",
    "\n",
    "# read the CSV containing information on all airports\n",
    "all_airports = pd.read_csv('airports.dat',sep=',',usecols=[1,2,3,4,5,6,7,8],\n",
    "                           names=[\"Name\",\"City\",\"Country\",\"IATA Code\",\"ICAO Code\",\"Latitude\",\"Longitude\",\"Altitude\"])\n",
    "\n",
    "# merge the CSVs such that we have all relevant information necessary on the 50 most travelled airports\n",
    "most_travelled_airports = most_travelled_airports.merge(all_airports,how=\"left\",on=\"IATA Code\")"
   ]
  },
  {
   "cell_type": "code",
   "execution_count": 13,
   "metadata": {},
   "outputs": [],
   "source": [
    "import sqlite3\n",
    "\n",
    "# let's create an airports table to store all of the information\n",
    "connection = sqlite3.connect(\"airport_data.db\")\n",
    "cursor = connection.cursor()\n",
    "\n",
    "sql_cmd = \"\"\"CREATE TABLE airports (aid INTEGER PRIMARY KEY AUTOINCREMENT,\n",
    "    name TEXT, city TEXT, country TEXT, iata TEXT, icao TEXT, latitude FLOAT, longitude FLOAT, altitude FLOAT)\"\"\"\n",
    "\n",
    "cursor.execute(sql_cmd)\n",
    "\n",
    "# now populate the table\n",
    "for ii,row in most_travelled_airports.iterrows():\n",
    "    name = row[\"Name\"].replace(\"'\",\"`\")\n",
    "    city = row[\"City\"]\n",
    "    country = row[\"Country\"]\n",
    "    icao = row[\"ICAO Code\"]\n",
    "    iata = row[\"IATA Code\"]\n",
    "    latitude = row[\"Latitude\"]\n",
    "    longitude = row[\"Longitude\"]\n",
    "    altitude = row[\"Altitude\"]\n",
    "    \n",
    "    sql_cmd = \"INSERT INTO airports\" + \\\n",
    "              \"(name, city, country, iata, icao, latitude, longitude, altitude)\" + \\\n",
    "              f\"\"\" VALUES ('{name}','{city}','{country}','{iata}','{icao}',{latitude},{longitude},{altitude})\"\"\"\n",
    "    cursor.execute(sql_cmd)\n",
    "connection.commit()\n"
   ]
  },
  {
   "cell_type": "markdown",
   "metadata": {},
   "source": [
    "# 2. Table for Storing Weather Information"
   ]
  },
  {
   "cell_type": "code",
   "execution_count": 41,
   "metadata": {
    "collapsed": true
   },
   "outputs": [],
   "source": [
    "sql_cmd = \"\"\"CREATE TABLE weather (wid INTEGER PRIMARY KEY AUTOINCREMENT, aid INTEGER, date DATE,\n",
    "    mintemp FLOAT, maxtemp FLOAT, meantemp FLOAT, precip FLOAT, windspeed FLOAT, humidity FLOAT)\"\"\"\n",
    "\n",
    "cursor.execute(sql_cmd);"
   ]
  },
  {
   "cell_type": "code",
   "execution_count": 40,
   "metadata": {
    "collapsed": true
   },
   "outputs": [],
   "source": [
    "sql_cmd = \"\"\"DROP TABLE weather\"\"\"\n",
    "\n",
    "cursor.execute(sql_cmd);"
   ]
  },
  {
   "cell_type": "markdown",
   "metadata": {},
   "source": [
    "# 3. Web Crawler To Populate Weather Table"
   ]
  },
  {
   "cell_type": "code",
   "execution_count": 42,
   "metadata": {
    "scrolled": false
   },
   "outputs": [],
   "source": [
    "from urllib.request import urlopen\n",
    "from bs4 import BeautifulSoup\n",
    "import datetime\n",
    "\n",
    "years = 1\n",
    "# daysInYear = 365.24\n",
    "daysInYear = 20\n",
    "dateToday = datetime.datetime.today()\n",
    "\n",
    "sql_cmd = \"\"\"SELECT airports.aid,airports.icao FROM airports \"\"\"\n",
    "\n",
    "cursor.execute(sql_cmd);\n",
    "airport_names = cursor.fetchall()\n",
    "\n",
    "for aid, airport_name in airport_names:\n",
    "    \n",
    "    dateLast = datetime.datetime.today() - datetime.timedelta(days=years*daysInYear)\n",
    "\n",
    "    for _ in range(years):\n",
    "        dateNext = dateLast + datetime.timedelta(days=daysInYear)\n",
    "\n",
    "        if dateNext > datetime.datetime.today():\n",
    "            dateNext = datetime.datetime.today()\n",
    "\n",
    "        date_range = pd.date_range(start=dateLast,end=dateNext)\n",
    "        \n",
    "        urlDateStart = dateLast.strftime(\"%Y/%m/%d\")\n",
    "        urlDateEnd = dateNext.strftime(\"dayend=%d&monthend=%m&yearend=%Y\")\n",
    "        url = f\"https://www.wunderground.com/history/airport/{airport_name}/{urlDateStart}/\"+\\\n",
    "              f\"CustomHistory.html?{urlDateEnd}\"\n",
    "        response = urlopen(url)\n",
    "        html = response.read()\n",
    "        response.close()\n",
    "        soup = BeautifulSoup(html,\"html.parser\")\n",
    "\n",
    "\n",
    "        for date in date_range:\n",
    "\n",
    "            urlSingleDate = date.strftime(\"%Y/%-m/%-d\")\n",
    "            sqlDate = date.strftime(\"%Y-%m-%d\")\n",
    "\n",
    "            dataID = soup.select(f'a[href=\"/history/airport/{airport_name}/{urlSingleDate}/DailyHistory.html\"]')\n",
    "            if len(dataID)>0:\n",
    "                values = dataID[0].find_all_next(\"td\",limit=19)\n",
    "\n",
    "                maxtemp = float(values[0].get_text().replace('\\n',''))\n",
    "                meantemp = float(values[1].get_text().replace('\\n',''))\n",
    "                mintemp = float(values[2].get_text().replace('\\n',''))\n",
    "                humidity = float(values[7].get_text().replace('\\n',''))\n",
    "                windspeed = float(values[16].get_text().replace('\\n',''))\n",
    "                if values[18].get_text().replace('\\n','')=='T': \n",
    "                    precip = 0.0# assume 0 inches of precipitation when trace precipitation is measured\n",
    "                else:\n",
    "                    precip = float(values[18].get_text().replace('\\n',''))\n",
    "            else:\n",
    "                # there is no data for this date\n",
    "                maxtemp = \"NULL\"\n",
    "                meantemp = \"NULL\"\n",
    "                mintemp = \"NULL\"\n",
    "                humidity = \"NULL\"\n",
    "                windspeed = \"NULL\"\n",
    "                precip = \"NULL\"\n",
    "            \n",
    "            sql_cmd = \"INSERT INTO weather\" + \\\n",
    "                      \"(aid, date, mintemp, maxtemp, meantemp, precip, windspeed,humidity)\" + \\\n",
    "                      f\"\"\" VALUES ({aid},'{sqlDate}',{mintemp},{maxtemp},{maxtemp},{precip},{windspeed},{humidity})\"\"\"\n",
    "            \n",
    "            cursor.execute(sql_cmd);\n",
    "        dateLast = dateNext + datetime.timedelta(days=1)\n"
   ]
  },
  {
   "cell_type": "code",
   "execution_count": 39,
   "metadata": {},
   "outputs": [
    {
     "data": {
      "text/plain": [
       "0"
      ]
     },
     "execution_count": 39,
     "metadata": {},
     "output_type": "execute_result"
    }
   ],
   "source": [
    "len(soup.select(f'a[href=\"/history/airport/{airport_name}/{urlSingleDate}/DailyHistory.html\"]'))"
   ]
  },
  {
   "cell_type": "markdown",
   "metadata": {},
   "source": [
    "# 4. Predicting Changes in Weather"
   ]
  },
  {
   "cell_type": "code",
   "execution_count": 263,
   "metadata": {
    "scrolled": true
   },
   "outputs": [
    {
     "name": "stderr",
     "output_type": "stream",
     "text": [
      "/home/sam/anaconda3/lib/python3.6/site-packages/numpy/lib/function_base.py:3167: RuntimeWarning: invalid value encountered in true_divide\n",
      "  c /= stddev[:, None]\n",
      "/home/sam/anaconda3/lib/python3.6/site-packages/numpy/lib/function_base.py:3168: RuntimeWarning: invalid value encountered in true_divide\n",
      "  c /= stddev[None, :]\n"
     ]
    },
    {
     "name": "stdout",
     "output_type": "stream",
     "text": [
      "235\n",
      "236\n",
      "237\n",
      "238\n",
      "239\n",
      "240\n",
      "241\n",
      "242\n",
      "243\n",
      "244\n",
      "245\n",
      "246\n",
      "247\n",
      "248\n",
      "249\n",
      "250\n",
      "251\n",
      "252\n",
      "253\n",
      "254\n",
      "255\n",
      "256\n",
      "257\n",
      "258\n",
      "259\n",
      "260\n",
      "261\n",
      "262\n",
      "263\n",
      "264\n",
      "265\n",
      "266\n",
      "267\n",
      "268\n",
      "269\n",
      "270\n",
      "271\n",
      "272\n",
      "273\n",
      "274\n",
      "275\n",
      "276\n",
      "277\n",
      "278\n",
      "322\n",
      "322\n",
      "322\n",
      "323\n",
      "323\n",
      "323\n",
      "324\n",
      "324\n",
      "324\n",
      "325\n",
      "325\n",
      "325\n",
      "326\n",
      "326\n",
      "326\n",
      "327\n",
      "327\n",
      "327\n",
      "328\n",
      "328\n",
      "328\n",
      "329\n",
      "329\n",
      "329\n",
      "330\n",
      "330\n",
      "330\n",
      "331\n",
      "331\n",
      "331\n",
      "332\n",
      "332\n",
      "332\n",
      "333\n",
      "333\n",
      "333\n",
      "334\n",
      "334\n",
      "334\n",
      "335\n",
      "335\n",
      "335\n",
      "336\n",
      "336\n",
      "336\n",
      "337\n",
      "337\n",
      "337\n",
      "338\n",
      "338\n",
      "338\n",
      "339\n",
      "339\n",
      "339\n",
      "340\n",
      "340\n",
      "340\n",
      "341\n",
      "341\n",
      "341\n",
      "342\n",
      "342\n",
      "342\n",
      "343\n",
      "343\n",
      "343\n",
      "344\n",
      "344\n",
      "344\n",
      "345\n",
      "345\n",
      "345\n",
      "346\n",
      "346\n",
      "346\n",
      "347\n",
      "347\n",
      "347\n",
      "348\n",
      "348\n",
      "348\n",
      "349\n",
      "349\n",
      "349\n",
      "350\n",
      "350\n",
      "350\n",
      "351\n",
      "351\n",
      "351\n",
      "352\n",
      "352\n",
      "352\n",
      "353\n",
      "353\n",
      "353\n",
      "354\n",
      "354\n",
      "354\n",
      "355\n",
      "355\n",
      "355\n",
      "356\n",
      "356\n",
      "356\n",
      "357\n",
      "357\n",
      "357\n",
      "358\n",
      "358\n",
      "358\n",
      "359\n",
      "359\n",
      "359\n",
      "360\n",
      "360\n",
      "360\n",
      "361\n",
      "361\n",
      "361\n",
      "362\n",
      "362\n",
      "362\n",
      "363\n",
      "363\n",
      "363\n"
     ]
    }
   ],
   "source": [
    "import numpy as np\n",
    "import itertools\n",
    "\n",
    "sql_cmd = \"\"\"SELECT airports.aid FROM airports\"\"\"\n",
    "cursor.execute(sql_cmd)\n",
    "\n",
    "aids = np.concatenate(np.array(cursor.fetchall()))\n",
    "combs = np.array(list(itertools.combinations(aids,2)))\n",
    "nCombs = len(combs)\n",
    "\n",
    "maxTempCorrs = np.zeros((len(combs),3))\n",
    "precipCorrs = np.zeros((len(combs),3))\n",
    "\n",
    "for iComb in range(nCombs):\n",
    "# iComb = 12\n",
    "    comb = combs[iComb]\n",
    "\n",
    "    db_data = list()\n",
    "\n",
    "    for ii in range(2):\n",
    "        sql_cmd = f\"\"\"SELECT weather.maxtemp,weather.precip FROM weather \n",
    "                     WHERE weather.aid = {comb[ii]}\"\"\"\n",
    "\n",
    "        cursor.execute(sql_cmd);\n",
    "        db_data.append(np.array(cursor.fetchall()))\n",
    "\n",
    "    db_data = np.hstack(np.array(db_data,dtype=np.float))\n",
    "\n",
    "    combData = pd.DataFrame(db_data,columns=[\"maxtemp1\",\"precip1\",\"maxtemp2\",\"precip2\"]).dropna()\n",
    "    \n",
    "    maxTempCorr1 = np.corrcoef(combData.maxtemp1.diff().dropna().values[:-1],\n",
    "                               y=combData.maxtemp2.diff().dropna().values[1:])[0,1]\n",
    "    \n",
    "    maxTempCorr3 = np.corrcoef(combData.maxtemp1.diff().dropna().values[:-3],\n",
    "                               y=combData.maxtemp2.diff().dropna().values[3:])[0,1]\n",
    "    \n",
    "    maxTempCorr7 = np.corrcoef(combData.maxtemp1.diff().dropna().values[:-7],\n",
    "                               y=combData.maxtemp2.diff().dropna().values[7:])[0,1]\n",
    "    \n",
    "    maxTempCorrs[iComb,:] = np.array([maxTempCorr1,maxTempCorr3,maxTempCorr7])\n",
    "    \n",
    "    precipCorr1 = np.corrcoef(combData.precip1.diff().dropna().values[:-1],\n",
    "                                 y=combData.precip1.diff().dropna().values[1:])[0,1]\n",
    "    \n",
    "    precipCorr3 = np.corrcoef(combData.precip1.diff().dropna().values[:-3],\n",
    "                                 y=combData.precip1.diff().dropna().values[3:])[0,1]\n",
    "    \n",
    "    precipCorr7 = np.corrcoef(combData.precip1.diff().dropna().values[:-7],\n",
    "                                 y=combData.precip1.diff().dropna().values[7:])[0,1]\n",
    "    \n",
    "    precipCorrs[iComb,:] = np.array([precipCorr1,precipCorr3,precipCorr7])"
   ]
  },
  {
   "cell_type": "code",
   "execution_count": 265,
   "metadata": {},
   "outputs": [
    {
     "name": "stdout",
     "output_type": "stream",
     "text": [
      "[(56.0, 0.0), (69.0, 0.0), (20.0, 0.11), (13.0, 0.0), (22.0, 0.0), (26.0, 0.02), (35.0, 0.0), (36.0, 0.0), (41.0, 0.0), (57.0, 0.0), (56.0, 0.0), (50.0, 0.0), (59.0, 0.0), (70.0, 0.0), (71.0, 0.0), (68.0, 0.0), (42.0, 0.0), (46.0, 0.0), (51.0, 0.0), (64.0, 0.0), (65.0, 0.0)]\n"
     ]
    }
   ],
   "source": [
    "\n",
    "sql_cmd = f\"\"\"SELECT weather.maxtemp,weather.precip FROM weather \n",
    "         WHERE weather.aid = 6\"\"\"\n",
    "cursor.execute(sql_cmd);\n",
    "print(cursor.fetchall())"
   ]
  },
  {
   "cell_type": "markdown",
   "metadata": {
    "collapsed": true
   },
   "source": [
    "# 5. Plotting the Results"
   ]
  },
  {
   "cell_type": "code",
   "execution_count": 244,
   "metadata": {},
   "outputs": [
    {
     "data": {
      "image/png": "[encoded data removed]",
      "text/plain": [
       "<matplotlib.figure.Figure at 0x7f569e488ba8>"
      ]
     },
     "metadata": {},
     "output_type": "display_data"
    }
   ],
   "source": [
    "import matplotlib.pyplot as plt\n",
    "% matplotlib inline\n",
    "\n",
    "def distanceOnSphere(lat1,lon1,lat2,lon2):\n",
    "    # takes in latitude and longitude of two points in degrees,\n",
    "    # outputs the great circle distance using the haversine formula (see Wikipedia)\n",
    "    \n",
    "    rEarth = 6371000.0 # radius of Earth in meters\n",
    "    \n",
    "    lat1*=np.pi/180\n",
    "    lon1*=np.pi/180\n",
    "    lat2*=np.pi/180\n",
    "    lon2*=np.pi/180\n",
    "    \n",
    "    dlon = lon2 - lon1\n",
    "    dlat = lat2 - lat1\n",
    "    a = np.sin(dlat/2.0)**2.0 + np.cos(lat1)*np.cos(lat2) * np.sin(dlon/2)**2.0\n",
    "    d = 2 * rEarth * np.sqrt(a)\n",
    "    return d\n",
    "\n",
    "nMax = 10\n",
    "\n",
    "fig, ax = plt.subplots(2, 3, sharey='row',figsize=(16,10))\n",
    "fig.text(0.08, 0.5, 'Correlation Strength', va='center', rotation='vertical',fontsize=16)\n",
    "fig.text(0.26, 0.94, 'Correlations Between Change in Max Temperature For Pairs of Airports',va='center',fontsize=16)\n",
    "\n",
    "labels = [\"1 Day Correlations\",\"3 Day Correlations\",\"7 Day Correlations\"]\n",
    "\n",
    "for iDiff in range(3):\n",
    "    \n",
    "    corrStrength = abs(maxTempCorrs[:,iDiff])\n",
    "    maxInds = corrStrength.argsort()[::-1][:nMax]\n",
    "    bestCombs = combs[maxInds]\n",
    "    distances = np.zeros(nMax)\n",
    "    dlongitude = np.zeros(nMax)\n",
    "    \n",
    "\n",
    "    for iMax in range(nMax):\n",
    "        comb = bestCombs[iMax]\n",
    "        latlon = np.zeros((2,2))\n",
    "        for iComb in range(2):\n",
    "            sql_cmd = f\"\"\"SELECT airports.latitude,airports.longitude FROM airports \n",
    "                         WHERE airports.aid = {comb[iComb]}\"\"\"\n",
    "\n",
    "            cursor.execute(sql_cmd);\n",
    "            latlon[iComb] = np.array(cursor.fetchall(),dtype = np.float)\n",
    "        distances[iMax] = distanceOnSphere(latlon[0,0],latlon[0,1],latlon[1,0],latlon[1,1])\n",
    "        dlongitude[iMax] = abs(latlon[0,1]-latlon[1,1])\n",
    "        \n",
    "    ax[0,iDiff].scatter(distances*1e-3,corrStrength[maxInds],s=10.0)\n",
    "    ax[0,iDiff].tick_params(which=\"both\",top=\"on\",right=\"on\",direction=\"in\")\n",
    "    ax[0,iDiff].grid(linestyle=\"dotted\")\n",
    "    ax[0,iDiff].set_title(labels[iDiff])\n",
    "    ax[0,iDiff].set_xlabel(\"Distance [km]\")\n",
    "    \n",
    "    ax[1,iDiff].scatter(dlongitude,corrStrength[maxInds],s=10.0)\n",
    "    ax[1,iDiff].tick_params(which=\"both\",top=\"on\",right=\"on\",direction=\"in\")\n",
    "    ax[1,iDiff].grid(linestyle=\"dotted\")\n",
    "    ax[1,iDiff].set_xlabel(\"Longitude [Deg.]\")\n",
    "    "
   ]
  },
  {
   "cell_type": "code",
   "execution_count": 246,
   "metadata": {},
   "outputs": [
    {
     "data": {
      "image/png": "[encoded data removed]",
      "text/plain": [
       "<matplotlib.figure.Figure at 0x7f569ea363c8>"
      ]
     },
     "metadata": {},
     "output_type": "display_data"
    }
   ],
   "source": [
    "\n",
    "fig, ax = plt.subplots(2, 3, sharey='row',figsize=(16,10))\n",
    "fig.text(0.08, 0.5, 'Correlation Strength', va='center', rotation='vertical',fontsize=16)\n",
    "fig.text(0.26, 0.94, 'Correlations Between Change in Precipitation For Pairs of Airports',va='center',fontsize=16)\n",
    "\n",
    "labels = [\"1 Day Correlations\",\"3 Day Correlations\",\"7 Day Correlations\"]\n",
    "\n",
    "for iDiff in range(3):\n",
    "    \n",
    "    corrStrength = abs(precipCorrs[:,iDiff])\n",
    "    maxInds = corrStrength.argsort()[::-1][:nMax]\n",
    "    bestCombs = combs[maxInds]\n",
    "    distances = np.zeros(nMax)\n",
    "    dlongitude = np.zeros(nMax)\n",
    "    \n",
    "\n",
    "    for iMax in range(nMax):\n",
    "        comb = bestCombs[iMax]\n",
    "        latlon = np.zeros((2,2))\n",
    "        for iComb in range(2):\n",
    "            sql_cmd = f\"\"\"SELECT airports.latitude,airports.longitude FROM airports \n",
    "                         WHERE airports.aid = {comb[iComb]}\"\"\"\n",
    "\n",
    "            cursor.execute(sql_cmd);\n",
    "            latlon[iComb] = np.array(cursor.fetchall(),dtype = np.float)\n",
    "        distances[iMax] = distanceOnSphere(latlon[0,0],latlon[0,1],latlon[1,0],latlon[1,1])\n",
    "        dlongitude[iMax] = abs(latlon[0,1]-latlon[1,1])\n",
    "        \n",
    "    ax[0,iDiff].scatter(distances*1e-3,corrStrength[maxInds],s=10.0)\n",
    "    ax[0,iDiff].tick_params(which=\"both\",top=\"on\",right=\"on\",direction=\"in\")\n",
    "    ax[0,iDiff].grid(linestyle=\"dotted\")\n",
    "    ax[0,iDiff].set_title(labels[iDiff])\n",
    "    ax[0,iDiff].set_xlabel(\"Distance [km]\")\n",
    "    \n",
    "    ax[1,iDiff].scatter(dlongitude,corrStrength[maxInds],s=10.0)\n",
    "    ax[1,iDiff].tick_params(which=\"both\",top=\"on\",right=\"on\",direction=\"in\")\n",
    "    ax[1,iDiff].grid(linestyle=\"dotted\")\n",
    "    ax[1,iDiff].set_xlabel(\"Longitude [Deg.]\")"
   ]
  },
  {
   "cell_type": "code",
   "execution_count": 260,
   "metadata": {},
   "outputs": [
    {
     "data": {
      "text/plain": [
       "True"
      ]
     },
     "execution_count": 260,
     "metadata": {},
     "output_type": "execute_result"
    }
   ],
   "source": [
    "np.any(np.isnan(precipCorrs))"
   ]
  },
  {
   "cell_type": "code",
   "execution_count": null,
   "metadata": {
    "collapsed": true
   },
   "outputs": [],
   "source": []
  }
 ],
 "metadata": {
  "kernelspec": {
   "display_name": "Python 3",
   "language": "python",
   "name": "python3"
  },
  "language_info": {
   "codemirror_mode": {
    "name": "ipython",
    "version": 3
   },
   "file_extension": ".py",
   "mimetype": "text/x-python",
   "name": "python",
   "nbconvert_exporter": "python",
   "pygments_lexer": "ipython3",
   "version": "3.6.3"
  }
 },
 "nbformat": 4,
 "nbformat_minor": 2
}
