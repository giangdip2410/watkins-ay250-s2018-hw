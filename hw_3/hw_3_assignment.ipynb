{
 "cells": [
  {
   "cell_type": "markdown",
   "metadata": {},
   "source": [
    "# Interaction with the World Homework (#3)\n",
    "Python Computing for Data Science (c) J Bloom, UC Berkeley 2018\n",
    "\n",
    "Due Tuesday 2pm, Feb 20, 2018"
   ]
  },
  {
   "cell_type": "markdown",
   "metadata": {},
   "source": [
    "# 1) Monty: The Python Siri\n",
    "\n",
    "Let's make a Siri-like program (call it Monty!) with the following properties:\n",
    "   - record your voice command\n",
    "   - use a webservice to parse that sound file into text\n",
    "   - based on what the text, take three different types of actions:\n",
    "       - send an email to yourself\n",
    "       - do some math\n",
    "       - tell a joke\n",
    "\n",
    "So for example, if you say \"Monty: email me with subject hello and body goodbye\", it will email you with the appropriate subject and body. If you say \"Monty: tell me a joke\" then it will go to the web and find a joke and print it for you. If you say, \"Monty: calculate two times three\" it should response with printing the number 6.\n",
    "\n",
    "Hint: you can use speed-to-text apps like Houndify (or, e.g., Google Speech https://cloud.google.com/speech/) to return the text (but not do the actions). You'll need to sign up for a free API and then follow documentation instructions for using the service within Python. "
   ]
  },
  {
   "cell_type": "code",
   "execution_count": 42,
   "metadata": {
    "collapsed": true,
    "scrolled": false
   },
   "outputs": [],
   "source": [
    "import pyaudio\n",
    "import smtplib\n",
    "import os\n",
    "import my_credentials as creds\n",
    "import wave\n",
    "import houndify\n",
    "\n",
    "from email.mime.base import MIMEBase\n",
    "from email.mime.multipart import MIMEMultipart\n",
    "from email.mime.text import MIMEText\n",
    "from email import encoders\n",
    "from email.utils import COMMASPACE, formatdate"
   ]
  },
  {
   "cell_type": "code",
   "execution_count": 43,
   "metadata": {},
   "outputs": [],
   "source": [
    "# Houndify listener, taken from Houndify SDK sample_wave.py\n",
    "class MyListener(houndify.HoundListener):\n",
    "    def onPartialTranscript(self, transcript):\n",
    "        return\n",
    "    def onFinalResponse(self, response):\n",
    "        textString=response['AllResults'][0]['WrittenResponseLong']\n",
    "        print(f\"Monty heard: \\\"{textString}\\\"\")\n",
    "        return\n",
    "    def onError(self, err):\n",
    "        print(\"Error: \" + str(err))\n",
    "\n",
    "# taken from lecture, changed print outputs\n",
    "def MontyListens(RECORD_SECONDS=5):\n",
    "    # can change number of seconds to record by specifying RECORD_SECONDS\n",
    "    # set up pyaudio for recording\n",
    "    p = pyaudio.PyAudio()\n",
    "    \n",
    "    chunk = 1024\n",
    "    FORMAT = p.get_format_from_width(2) # Houndify requires a sample width of 2\n",
    "    CHANNELS = 1\n",
    "    RATE = 16000\n",
    "    WAVE_OUTPUT_FILENAME = \"MontySnippet.wav\"\n",
    "    \n",
    "    stream = p.open(format = FORMAT,\n",
    "        channels = CHANNELS,\n",
    "        rate = RATE,\n",
    "        input = True,\n",
    "        frames_per_buffer = chunk)\n",
    "    print(\"Monty is listening!\")\n",
    "    \n",
    "    # record data\n",
    "    all = []\n",
    "    for i in range(0, int(RATE / chunk * RECORD_SECONDS)):\n",
    "        data = stream.read(chunk)\n",
    "        all.append(data)\n",
    "    print(\"Monty is thinking...\")\n",
    "    # stop listening and close pyaudio\n",
    "    stream.close()\n",
    "    p.terminate()\n",
    "    \n",
    "    # with data recorded, create a .wav file\n",
    "    data = b\"\".join(all)\n",
    "    wf = wave.open(WAVE_OUTPUT_FILENAME, \"wb\")\n",
    "    wf.setnchannels(CHANNELS)\n",
    "    wf.setsampwidth(p.get_sample_size(FORMAT))\n",
    "    wf.setframerate(RATE)\n",
    "    wf.writeframes(data)\n",
    "    wf.close()\n",
    "    \n",
    "    # return the .wav filename to open using Houndify\n",
    "    return WAVE_OUTPUT_FILENAME\n",
    "\n",
    "def MontyConverts(AUDIO_FILE,CLIENT_ID,CLIENT_KEY):\n",
    "    # convert speech to text via Houndify\n",
    "    # AUDIO_FILE = filename of the .wav file to listen to \n",
    "    # CLIENT_ID = Houndify API Client ID\n",
    "    # CLIENT_KEY = Houndify API Client Key\n",
    "    BUFFER_SIZE = 512\n",
    "    \n",
    "    # open .wav file, make sure it has correct attributes\n",
    "    audio = wave.open(AUDIO_FILE)\n",
    "    \n",
    "    if audio.getsampwidth() != 2:\n",
    "        print(\"%s: wrong sample width (must be 16-bit)\" % AUDIO_FILE)\n",
    "        audio.close()\n",
    "        return\n",
    "    if audio.getframerate() != 8000 and audio.getframerate() != 16000:\n",
    "        print(\"%s: unsupported sampling frequency (must be either 8 or 16 khz)\" % AUDIO_FILE)\n",
    "        audio.close()\n",
    "        return\n",
    "    if audio.getnchannels() != 1:\n",
    "        print(\"%s: must be single channel (mono)\" % AUDIO_FILE)\n",
    "        audio.close()\n",
    "        return\n",
    "    \n",
    "    # set up client\n",
    "    client = houndify.StreamingHoundClient(CLIENT_ID, CLIENT_KEY, \"test_user\")\n",
    "    client.setLocation(37.388309, -121.973968)\n",
    "    \n",
    "    # listen to the .wav file\n",
    "    client.setSampleRate(audio.getframerate())\n",
    "    client.start(MyListener())\n",
    "\n",
    "    while True:\n",
    "        samples = audio.readframes(BUFFER_SIZE)\n",
    "        if len(samples) == 0: \n",
    "            break\n",
    "        if client.fill(samples): \n",
    "            break\n",
    "\n",
    "    audio.close()\n",
    "    result = client.finish() # returns either final response or error\n",
    "    return result\n",
    "\n",
    "# from the email_example.py code, removed file attachment ability, SMTP -> SMTP_SSL\n",
    "def MontyEmails(sender, pwd, to, subject, text):\n",
    "    # sender = email of sender\n",
    "    # pwd = password of sender (if using 2-step authentication, create an app password)\n",
    "    # to = email of recipient\n",
    "    # subject subject of email\n",
    "    # text = body of email\n",
    "    \n",
    "    # create message\n",
    "    msg = MIMEMultipart()\n",
    "    msg[\"From\"] = sender\n",
    "    msg[\"To\"] = COMMASPACE.join(to)\n",
    "    msg[\"Date\"] = formatdate(localtime=True)\n",
    "    msg[\"Subject\"] = subject\n",
    "    msg.attach(MIMEText(text))\n",
    "    \n",
    "    # open mail server, login, send message, close server\n",
    "    mailServer = smtplib.SMTP_SSL(\"smtp.gmail.com\", creds.GMAIL_SMTP_PORT)\n",
    "    mailServer.login(sender, pwd)\n",
    "    mailServer.sendmail(sender, to, msg.as_string())\n",
    "    mailServer.close()\n"
   ]
  },
  {
   "cell_type": "code",
   "execution_count": 44,
   "metadata": {},
   "outputs": [
    {
     "name": "stdout",
     "output_type": "stream",
     "text": [
      "**Monty is listening!**\n",
      "**Monty is thinking...**\n",
      "**Monty heard: \"Hey manti send me an email with subject hello body pillow\"**\n",
      "Hey manti send me an email with subject hello body pillow\n"
     ]
    }
   ],
   "source": [
    "# Load up the Gmail user, pass, and Houndify credentials\n",
    "GMAIL_USER = creds.GMAIL_USERNAME\n",
    "GMAIL_PASS = creds.GMAIL_PASSWORD\n",
    "CLIENT_ID = creds.HOUNDIFY_CLIENT_ID\n",
    "CLIENT_KEY = creds.HOUNDIFY_CLIENT_KEY\n",
    "\n",
    "# Boot up Monty, listen to the user (default is for ten seconds)\n",
    "# wavFilename = MontyListens(RECORD_SECONDS=10)\n",
    "\n",
    "# textResult = MontyConverts(wavFilename,CLIENT_ID,CLIENT_KEY)\n",
    "\n",
    "textResult = \"Hey manti send me an email with subject hello body pillow\"\n",
    "\n",
    "\n",
    "# MontyEmails(sender=gmail_user, \n",
    "#     pwd=gmail_password, \n",
    "#     to=[gmail_user,],   # include an extra comma in the \"to\" list to \n",
    "#                                    # account for the COMMASPACE.join(to)\n",
    "#     subject=\"Email from Python\", \n",
    "#     text=\"Whoooo!\\n\"\n",
    "#     )\n"
   ]
  },
  {
   "cell_type": "code",
   "execution_count": 11,
   "metadata": {},
   "outputs": [
    {
     "name": "stdout",
     "output_type": "stream",
     "text": [
      "1\n"
     ]
    }
   ],
   "source": []
  },
  {
   "cell_type": "code",
   "execution_count": 7,
   "metadata": {
    "collapsed": true
   },
   "outputs": [],
   "source": []
  },
  {
   "cell_type": "markdown",
   "metadata": {},
   "source": [
    "# 2) Write a program that identifies musical notes from sound (AIFF) files. \n",
    "\n",
    "  - Run it on the supplied sound files (12) and report your program’s results. \n",
    "  - Use the labeled sounds (4) to make sure it works correctly. The provided sound files contain 1-3 simultaneous notes from different organs.\n",
    "  - Save copies of any example plots to illustrate how your program works.\n",
    "  \n",
    "  https://piazza.com/berkeley/spring2018/ay250class13410/resources -> Homeworks -> hw3_sound_files.zip"
   ]
  },
  {
   "cell_type": "markdown",
   "metadata": {},
   "source": [
    "Hints: You’ll want to decompose the sound into a frequency power spectrum. Use a Fast Fourier Transform. Be care about “unpacking” the string hexcode into python data structures. The sound files use 32 bit data. Play around with what happens when you convert the string data to other integer sizes, or signed vs unsigned integers. Also, beware of harmonics."
   ]
  },
  {
   "cell_type": "code",
   "execution_count": null,
   "metadata": {
    "collapsed": true
   },
   "outputs": [],
   "source": []
  }
 ],
 "metadata": {
  "kernelspec": {
   "display_name": "Python 3",
   "language": "python",
   "name": "python3"
  },
  "language_info": {
   "codemirror_mode": {
    "name": "ipython",
    "version": 3
   },
   "file_extension": ".py",
   "mimetype": "text/x-python",
   "name": "python",
   "nbconvert_exporter": "python",
   "pygments_lexer": "ipython3",
   "version": "3.6.3"
  }
 },
 "nbformat": 4,
 "nbformat_minor": 1
}
